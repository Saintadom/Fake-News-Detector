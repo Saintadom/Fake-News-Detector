{
 "cells": [
  {
   "cell_type": "markdown",
   "id": "79376388-3a69-433b-bb54-9de3dac3f8d4",
   "metadata": {},
   "source": [
    "# <font color = 'blue'> Fake News Detector <font/> \n",
    "# <font color = 'brown'> 1. Preprocess, 2. one_hot encoding, 3. create LSTM Model, 4. oberve the alteration in shape 5. observe total weights <font/> "
   ]
  },
  {
   "cell_type": "code",
   "execution_count": 1,
   "id": "da6e3367-a284-41fd-933b-373850428b5d",
   "metadata": {},
   "outputs": [
    {
     "name": "stderr",
     "output_type": "stream",
     "text": [
      "[nltk_data] Downloading package stopwords to\n",
      "[nltk_data]     C:\\Users\\kwabe\\AppData\\Roaming\\nltk_data...\n",
      "[nltk_data]   Package stopwords is already up-to-date!\n",
      "[nltk_data] Downloading package wordnet to\n",
      "[nltk_data]     C:\\Users\\kwabe\\AppData\\Roaming\\nltk_data...\n",
      "[nltk_data]   Package wordnet is already up-to-date!\n"
     ]
    },
    {
     "data": {
      "text/plain": [
       "True"
      ]
     },
     "execution_count": 1,
     "metadata": {},
     "output_type": "execute_result"
    }
   ],
   "source": [
    "# Import relevant libraries\n",
    "import re\n",
    "import pandas as pd\n",
    "import nltk\n",
    "import numpy as np\n",
    "import tensorflow as tf\n",
    "from tensorflow.keras.layers import Embedding, Dense, LSTM, Dropout\n",
    "from tensorflow.keras.models import Sequential\n",
    "from tensorflow.keras.utils import plot_model\n",
    "from tensorflow.keras.preprocessing.text import one_hot\n",
    "from tensorflow.keras.preprocessing.sequence import pad_sequences\n",
    "from sklearn.metrics import classification_report\n",
    "from nltk.stem import WordNetLemmatizer\n",
    "from nltk.corpus import stopwords\n",
    "nltk.download('stopwords')\n",
    "nltk.download('wordnet')"
   ]
  },
  {
   "cell_type": "code",
   "execution_count": 2,
   "id": "071d77b1-3f74-452a-b1b0-577c72c0a413",
   "metadata": {},
   "outputs": [
    {
     "data": {
      "text/html": [
       "<div>\n",
       "<style scoped>\n",
       "    .dataframe tbody tr th:only-of-type {\n",
       "        vertical-align: middle;\n",
       "    }\n",
       "\n",
       "    .dataframe tbody tr th {\n",
       "        vertical-align: top;\n",
       "    }\n",
       "\n",
       "    .dataframe thead th {\n",
       "        text-align: right;\n",
       "    }\n",
       "</style>\n",
       "<table border=\"1\" class=\"dataframe\">\n",
       "  <thead>\n",
       "    <tr style=\"text-align: right;\">\n",
       "      <th></th>\n",
       "      <th>id</th>\n",
       "      <th>title</th>\n",
       "      <th>author</th>\n",
       "      <th>text</th>\n",
       "      <th>label</th>\n",
       "    </tr>\n",
       "  </thead>\n",
       "  <tbody>\n",
       "    <tr>\n",
       "      <th>0</th>\n",
       "      <td>0</td>\n",
       "      <td>House Dem Aide: We Didn’t Even See Comey’s Let...</td>\n",
       "      <td>Darrell Lucus</td>\n",
       "      <td>House Dem Aide: We Didn’t Even See Comey’s Let...</td>\n",
       "      <td>1</td>\n",
       "    </tr>\n",
       "    <tr>\n",
       "      <th>1</th>\n",
       "      <td>1</td>\n",
       "      <td>FLYNN: Hillary Clinton, Big Woman on Campus - ...</td>\n",
       "      <td>Daniel J. Flynn</td>\n",
       "      <td>Ever get the feeling your life circles the rou...</td>\n",
       "      <td>0</td>\n",
       "    </tr>\n",
       "    <tr>\n",
       "      <th>2</th>\n",
       "      <td>2</td>\n",
       "      <td>Why the Truth Might Get You Fired</td>\n",
       "      <td>Consortiumnews.com</td>\n",
       "      <td>Why the Truth Might Get You Fired October 29, ...</td>\n",
       "      <td>1</td>\n",
       "    </tr>\n",
       "    <tr>\n",
       "      <th>3</th>\n",
       "      <td>3</td>\n",
       "      <td>15 Civilians Killed In Single US Airstrike Hav...</td>\n",
       "      <td>Jessica Purkiss</td>\n",
       "      <td>Videos 15 Civilians Killed In Single US Airstr...</td>\n",
       "      <td>1</td>\n",
       "    </tr>\n",
       "    <tr>\n",
       "      <th>4</th>\n",
       "      <td>4</td>\n",
       "      <td>Iranian woman jailed for fictional unpublished...</td>\n",
       "      <td>Howard Portnoy</td>\n",
       "      <td>Print \\nAn Iranian woman has been sentenced to...</td>\n",
       "      <td>1</td>\n",
       "    </tr>\n",
       "  </tbody>\n",
       "</table>\n",
       "</div>"
      ],
      "text/plain": [
       "   id                                              title              author  \\\n",
       "0   0  House Dem Aide: We Didn’t Even See Comey’s Let...       Darrell Lucus   \n",
       "1   1  FLYNN: Hillary Clinton, Big Woman on Campus - ...     Daniel J. Flynn   \n",
       "2   2                  Why the Truth Might Get You Fired  Consortiumnews.com   \n",
       "3   3  15 Civilians Killed In Single US Airstrike Hav...     Jessica Purkiss   \n",
       "4   4  Iranian woman jailed for fictional unpublished...      Howard Portnoy   \n",
       "\n",
       "                                                text  label  \n",
       "0  House Dem Aide: We Didn’t Even See Comey’s Let...      1  \n",
       "1  Ever get the feeling your life circles the rou...      0  \n",
       "2  Why the Truth Might Get You Fired October 29, ...      1  \n",
       "3  Videos 15 Civilians Killed In Single US Airstr...      1  \n",
       "4  Print \\nAn Iranian woman has been sentenced to...      1  "
      ]
     },
     "execution_count": 2,
     "metadata": {},
     "output_type": "execute_result"
    }
   ],
   "source": [
    "df = pd.read_csv(r\"C:\\Users\\kwabe\\Desktop\\DS Projects\\NLP\\082 fakenews\\train.csv\") \n",
    "df.head()"
   ]
  },
  {
   "cell_type": "code",
   "execution_count": 3,
   "id": "744712a0-6f61-4271-8a18-8102a3de3d70",
   "metadata": {},
   "outputs": [
    {
     "data": {
      "text/plain": [
       "'Technocracy: The Real Reason Why The UN Wants Control Over The Internet'"
      ]
     },
     "execution_count": 3,
     "metadata": {},
     "output_type": "execute_result"
    }
   ],
   "source": [
    "df['title'][100]"
   ]
  },
  {
   "cell_type": "code",
   "execution_count": 4,
   "id": "afa2837f-2cd5-4938-a569-e8a55791b887",
   "metadata": {},
   "outputs": [
    {
     "data": {
      "text/plain": [
       "1"
      ]
     },
     "execution_count": 4,
     "metadata": {},
     "output_type": "execute_result"
    }
   ],
   "source": [
    "df['label'][100]"
   ]
  },
  {
   "cell_type": "code",
   "execution_count": 5,
   "id": "c21fde40-62a3-40f6-977b-cf81bc5dcd7f",
   "metadata": {},
   "outputs": [
    {
     "data": {
      "text/plain": [
       "(20800, 5)"
      ]
     },
     "execution_count": 5,
     "metadata": {},
     "output_type": "execute_result"
    }
   ],
   "source": [
    "df.shape"
   ]
  },
  {
   "cell_type": "code",
   "execution_count": 6,
   "id": "e321f753-29ed-4e9f-aa5a-8421602bb779",
   "metadata": {},
   "outputs": [
    {
     "data": {
      "text/plain": [
       "id           0\n",
       "title      558\n",
       "author    1957\n",
       "text        39\n",
       "label        0\n",
       "dtype: int64"
      ]
     },
     "execution_count": 6,
     "metadata": {},
     "output_type": "execute_result"
    }
   ],
   "source": [
    "df.isnull().sum()"
   ]
  },
  {
   "cell_type": "code",
   "execution_count": 7,
   "id": "27f14138-68f8-4d0e-8aab-30fd598a2346",
   "metadata": {},
   "outputs": [
    {
     "data": {
      "text/plain": [
       "id           0\n",
       "title        0\n",
       "author    1918\n",
       "text         0\n",
       "label        0\n",
       "dtype: int64"
      ]
     },
     "execution_count": 7,
     "metadata": {},
     "output_type": "execute_result"
    }
   ],
   "source": [
    "# Drop title and text roles with null values\n",
    "df = df.dropna(subset=['title', 'text'])\n",
    "df.isnull().sum()"
   ]
  },
  {
   "cell_type": "code",
   "execution_count": 8,
   "id": "1a65de86-4a6a-428e-a5c1-54fdd420f01e",
   "metadata": {},
   "outputs": [],
   "source": [
    "# Prepare and create the model\n",
    "x = df.drop(columns = 'label') #Drop the target class (label)\n",
    "y = df['label']"
   ]
  },
  {
   "cell_type": "code",
   "execution_count": 9,
   "id": "a1d49bee-6a5a-4108-b16b-d1f0160c45e7",
   "metadata": {},
   "outputs": [
    {
     "data": {
      "text/plain": [
       "((20203, 4), (20203,))"
      ]
     },
     "execution_count": 9,
     "metadata": {},
     "output_type": "execute_result"
    }
   ],
   "source": [
    "x.shape, y.shape"
   ]
  },
  {
   "cell_type": "code",
   "execution_count": 10,
   "id": "4d0bee3b-66a3-473a-98c5-3abd7524c7d2",
   "metadata": {},
   "outputs": [],
   "source": [
    "# Data Preprocessing"
   ]
  },
  {
   "cell_type": "code",
   "execution_count": 11,
   "id": "78eca607-a3da-4fbc-8453-06e1aa773c72",
   "metadata": {},
   "outputs": [],
   "source": [
    "# Create a shallow copy - create a new object\n",
    "copy = x.copy()\n",
    "#copies of the reference of nested objects\n",
    "copy.reset_index(inplace=True)"
   ]
  },
  {
   "cell_type": "code",
   "execution_count": 12,
   "id": "ad8de68c-957f-4fab-a5bc-1074a4f63954",
   "metadata": {},
   "outputs": [],
   "source": [
    "ws = WordNetLemmatizer()\n",
    "list_titles = []\n",
    "for i in range(0, len(copy)):\n",
    "    #print(i) #Print copy[title - i]\n",
    "    headline = re.sub('[^a-zA-Z]', ' ', copy['title'][i])\n",
    "    #Matching the text string for any lowercase or uppercase\n",
    "    # When the ^(hat symbol) is on the inside of [], it matches any character that doesn't appear inside []\n",
    "    # When ^ is on the outside of the []; it matches the beginning of the line/string - title\n",
    "    headline = headline.lower()\n",
    "    headline = headline.split()\n",
    "    headline = [ws.lemmatize(word) for word in headline if word not in stopwords.words(\"english\")]\n",
    "    headline = ' '.join(headline)\n",
    "    list_titles.append(headline)"
   ]
  },
  {
   "cell_type": "code",
   "execution_count": 13,
   "id": "67255cb3-793a-4816-8e52-0f526b4a2265",
   "metadata": {},
   "outputs": [
    {
     "data": {
      "text/plain": [
       "['house dem aide even see comey letter jason chaffetz tweeted',\n",
       " 'flynn hillary clinton big woman campus breitbart',\n",
       " 'truth might get fired',\n",
       " 'civilian killed single u airstrike identified']"
      ]
     },
     "execution_count": 13,
     "metadata": {},
     "output_type": "execute_result"
    }
   ],
   "source": [
    "list_titles[:4]"
   ]
  },
  {
   "cell_type": "markdown",
   "id": "ca75a4c5-7023-46c6-9d01-4ea58973c0b4",
   "metadata": {},
   "source": [
    "# <font color = 'blue'> One Hot Encoding<br><font color = 'green'> Encoding each word in the titles into an integer."
   ]
  },
  {
   "cell_type": "code",
   "execution_count": 46,
   "id": "142908ee-f154-47df-b5f8-73cb41a37fd8",
   "metadata": {},
   "outputs": [
    {
     "data": {
      "text/plain": [
       "[[1640, 1398, 4228, 3223, 8163, 7302, 1033, 3338, 6626, 3398],\n",
       " [9605, 7503, 5381, 6605, 9301, 2851, 8115],\n",
       " [8806, 368, 8512, 8931],\n",
       " [1153, 1782, 7807, 1517, 1417, 6120]]"
      ]
     },
     "execution_count": 46,
     "metadata": {},
     "output_type": "execute_result"
    }
   ],
   "source": [
    "vocab = 10000\n",
    "hot_title  = [one_hot(i, vocab) for i in list_titles]\n",
    "hot_title[:4]"
   ]
  },
  {
   "cell_type": "code",
   "execution_count": 42,
   "id": "ad4f80bb-e893-49e6-8da7-0ec49e0d0e80",
   "metadata": {},
   "outputs": [
    {
     "data": {
      "text/plain": [
       "356"
      ]
     },
     "execution_count": 42,
     "metadata": {},
     "output_type": "execute_result"
    }
   ],
   "source": [
    "#Longest sentence\n",
    "longest = len(max(list_titles, key = len))\n",
    "longest"
   ]
  },
  {
   "cell_type": "code",
   "execution_count": 47,
   "id": "3d4ad314-ad2e-495f-bb24-d4b0a1c62253",
   "metadata": {},
   "outputs": [
    {
     "name": "stdout",
     "output_type": "stream",
     "text": [
      "[[   0    0    0 ... 3338 6626 3398]\n",
      " [   0    0    0 ... 9301 2851 8115]\n",
      " [   0    0    0 ...  368 8512 8931]\n",
      " ...\n",
      " [   0    0    0 ... 6301 7036 6004]\n",
      " [   0    0    0 ... 3275 1404 5396]\n",
      " [   0    0    0 ... 7672 6308 6212]]\n"
     ]
    }
   ],
   "source": [
    "# Make every sentence to have the same length\n",
    "max_length = 356\n",
    "embed_input = pad_sequences(hot_title, maxlen = max_length, padding = 'pre')\n",
    "print(embed_input)"
   ]
  },
  {
   "cell_type": "code",
   "execution_count": 44,
   "id": "7f05e978-be56-40c4-87ae-471ee21348aa",
   "metadata": {},
   "outputs": [
    {
     "name": "stdout",
     "output_type": "stream",
     "text": [
      "(20203, 356)\n"
     ]
    }
   ],
   "source": [
    "print(embed_input.shape)"
   ]
  },
  {
   "cell_type": "code",
   "execution_count": 50,
   "id": "7167e1c0-7eca-44c3-9e76-6f07dce70a2d",
   "metadata": {
    "scrolled": true
   },
   "outputs": [
    {
     "data": {
      "text/html": [
       "<pre style=\"white-space:pre;overflow-x:auto;line-height:normal;font-family:Menlo,'DejaVu Sans Mono',consolas,'Courier New',monospace\"><span style=\"font-weight: bold\">Model: \"sequential_11\"</span>\n",
       "</pre>\n"
      ],
      "text/plain": [
       "\u001b[1mModel: \"sequential_11\"\u001b[0m\n"
      ]
     },
     "metadata": {},
     "output_type": "display_data"
    },
    {
     "data": {
      "text/html": [
       "<pre style=\"white-space:pre;overflow-x:auto;line-height:normal;font-family:Menlo,'DejaVu Sans Mono',consolas,'Courier New',monospace\">┏━━━━━━━━━━━━━━━━━━━━━━━━━━━━━━━━━┳━━━━━━━━━━━━━━━━━━━━━━━━┳━━━━━━━━━━━━━━━┓\n",
       "┃<span style=\"font-weight: bold\"> Layer (type)                    </span>┃<span style=\"font-weight: bold\"> Output Shape           </span>┃<span style=\"font-weight: bold\">       Param # </span>┃\n",
       "┡━━━━━━━━━━━━━━━━━━━━━━━━━━━━━━━━━╇━━━━━━━━━━━━━━━━━━━━━━━━╇━━━━━━━━━━━━━━━┩\n",
       "│ embedding_11 (<span style=\"color: #0087ff; text-decoration-color: #0087ff\">Embedding</span>)        │ (<span style=\"color: #00d7ff; text-decoration-color: #00d7ff\">None</span>, <span style=\"color: #00af00; text-decoration-color: #00af00\">356</span>, <span style=\"color: #00af00; text-decoration-color: #00af00\">40</span>)        │       <span style=\"color: #00af00; text-decoration-color: #00af00\">400,000</span> │\n",
       "├─────────────────────────────────┼────────────────────────┼───────────────┤\n",
       "│ lstm_11 (<span style=\"color: #0087ff; text-decoration-color: #0087ff\">LSTM</span>)                  │ (<span style=\"color: #00d7ff; text-decoration-color: #00d7ff\">None</span>, <span style=\"color: #00af00; text-decoration-color: #00af00\">150</span>)            │       <span style=\"color: #00af00; text-decoration-color: #00af00\">114,600</span> │\n",
       "├─────────────────────────────────┼────────────────────────┼───────────────┤\n",
       "│ dense_11 (<span style=\"color: #0087ff; text-decoration-color: #0087ff\">Dense</span>)                │ (<span style=\"color: #00d7ff; text-decoration-color: #00d7ff\">None</span>, <span style=\"color: #00af00; text-decoration-color: #00af00\">1</span>)              │           <span style=\"color: #00af00; text-decoration-color: #00af00\">151</span> │\n",
       "└─────────────────────────────────┴────────────────────────┴───────────────┘\n",
       "</pre>\n"
      ],
      "text/plain": [
       "┏━━━━━━━━━━━━━━━━━━━━━━━━━━━━━━━━━┳━━━━━━━━━━━━━━━━━━━━━━━━┳━━━━━━━━━━━━━━━┓\n",
       "┃\u001b[1m \u001b[0m\u001b[1mLayer (type)                   \u001b[0m\u001b[1m \u001b[0m┃\u001b[1m \u001b[0m\u001b[1mOutput Shape          \u001b[0m\u001b[1m \u001b[0m┃\u001b[1m \u001b[0m\u001b[1m      Param #\u001b[0m\u001b[1m \u001b[0m┃\n",
       "┡━━━━━━━━━━━━━━━━━━━━━━━━━━━━━━━━━╇━━━━━━━━━━━━━━━━━━━━━━━━╇━━━━━━━━━━━━━━━┩\n",
       "│ embedding_11 (\u001b[38;5;33mEmbedding\u001b[0m)        │ (\u001b[38;5;45mNone\u001b[0m, \u001b[38;5;34m356\u001b[0m, \u001b[38;5;34m40\u001b[0m)        │       \u001b[38;5;34m400,000\u001b[0m │\n",
       "├─────────────────────────────────┼────────────────────────┼───────────────┤\n",
       "│ lstm_11 (\u001b[38;5;33mLSTM\u001b[0m)                  │ (\u001b[38;5;45mNone\u001b[0m, \u001b[38;5;34m150\u001b[0m)            │       \u001b[38;5;34m114,600\u001b[0m │\n",
       "├─────────────────────────────────┼────────────────────────┼───────────────┤\n",
       "│ dense_11 (\u001b[38;5;33mDense\u001b[0m)                │ (\u001b[38;5;45mNone\u001b[0m, \u001b[38;5;34m1\u001b[0m)              │           \u001b[38;5;34m151\u001b[0m │\n",
       "└─────────────────────────────────┴────────────────────────┴───────────────┘\n"
      ]
     },
     "metadata": {},
     "output_type": "display_data"
    },
    {
     "data": {
      "text/html": [
       "<pre style=\"white-space:pre;overflow-x:auto;line-height:normal;font-family:Menlo,'DejaVu Sans Mono',consolas,'Courier New',monospace\"><span style=\"font-weight: bold\"> Total params: </span><span style=\"color: #00af00; text-decoration-color: #00af00\">514,751</span> (1.96 MB)\n",
       "</pre>\n"
      ],
      "text/plain": [
       "\u001b[1m Total params: \u001b[0m\u001b[38;5;34m514,751\u001b[0m (1.96 MB)\n"
      ]
     },
     "metadata": {},
     "output_type": "display_data"
    },
    {
     "data": {
      "text/html": [
       "<pre style=\"white-space:pre;overflow-x:auto;line-height:normal;font-family:Menlo,'DejaVu Sans Mono',consolas,'Courier New',monospace\"><span style=\"font-weight: bold\"> Trainable params: </span><span style=\"color: #00af00; text-decoration-color: #00af00\">514,751</span> (1.96 MB)\n",
       "</pre>\n"
      ],
      "text/plain": [
       "\u001b[1m Trainable params: \u001b[0m\u001b[38;5;34m514,751\u001b[0m (1.96 MB)\n"
      ]
     },
     "metadata": {},
     "output_type": "display_data"
    },
    {
     "data": {
      "text/html": [
       "<pre style=\"white-space:pre;overflow-x:auto;line-height:normal;font-family:Menlo,'DejaVu Sans Mono',consolas,'Courier New',monospace\"><span style=\"font-weight: bold\"> Non-trainable params: </span><span style=\"color: #00af00; text-decoration-color: #00af00\">0</span> (0.00 B)\n",
       "</pre>\n"
      ],
      "text/plain": [
       "\u001b[1m Non-trainable params: \u001b[0m\u001b[38;5;34m0\u001b[0m (0.00 B)\n"
      ]
     },
     "metadata": {},
     "output_type": "display_data"
    },
    {
     "name": "stdout",
     "output_type": "stream",
     "text": [
      "None\n"
     ]
    }
   ],
   "source": [
    "# Develop the Model\n",
    "model = Sequential() # Create the sequential model\n",
    "model.add(Embedding(input_dim=vocab, output_dim=40, input_length=max_length))\n",
    "model.add(LSTM(150))\n",
    "model.add(Dense(1, activation='sigmoid'))\n",
    "\n",
    "#Build the model\n",
    "model.build(input_shape=(None, max_length))\n",
    "#Loss Function\n",
    "model.compile(loss = 'binary_crossentropy', optimizer = 'adam', metrics=['accuracy'])\n",
    "print(model.summary())"
   ]
  },
  {
   "cell_type": "code",
   "execution_count": 62,
   "id": "61dd1f76-37b1-4cfd-834c-8512bc561619",
   "metadata": {},
   "outputs": [
    {
     "data": {
      "text/plain": [
       "(20203, (20203,))"
      ]
     },
     "execution_count": 62,
     "metadata": {},
     "output_type": "execute_result"
    }
   ],
   "source": [
    "len(embed_input), y.shape"
   ]
  },
  {
   "cell_type": "code",
   "execution_count": 63,
   "id": "570bbfc2-52c5-4a72-a5e7-44951b3b3dad",
   "metadata": {},
   "outputs": [
    {
     "data": {
      "text/plain": [
       "((20203, 356), (20203,))"
      ]
     },
     "execution_count": 63,
     "metadata": {},
     "output_type": "execute_result"
    }
   ],
   "source": [
    "x_final = np.array(embed_input)\n",
    "y_final = np.array(y)\n",
    "x_final.shape, y_final.shape"
   ]
  },
  {
   "cell_type": "code",
   "execution_count": 64,
   "id": "f03d0678-971e-4706-a4cc-f644cd29872f",
   "metadata": {},
   "outputs": [],
   "source": [
    "from sklearn.model_selection import train_test_split\n",
    "x_train, x_test, y_train, y_test = train_test_split(x_final, y_final, test_size = 0.33, random_state=42)"
   ]
  },
  {
   "cell_type": "code",
   "execution_count": 65,
   "id": "3d537914-dc2a-43ec-882d-9d00178da0ed",
   "metadata": {},
   "outputs": [
    {
     "name": "stdout",
     "output_type": "stream",
     "text": [
      "Epoch 1/10\n",
      "\u001b[1m212/212\u001b[0m \u001b[32m━━━━━━━━━━━━━━━━━━━━\u001b[0m\u001b[37m\u001b[0m \u001b[1m93s\u001b[0m 426ms/step - accuracy: 0.8402 - loss: 0.4020 - val_accuracy: 0.9235 - val_loss: 0.1827\n",
      "Epoch 2/10\n",
      "\u001b[1m212/212\u001b[0m \u001b[32m━━━━━━━━━━━━━━━━━━━━\u001b[0m\u001b[37m\u001b[0m \u001b[1m94s\u001b[0m 443ms/step - accuracy: 0.9486 - loss: 0.1315 - val_accuracy: 0.9259 - val_loss: 0.2034\n",
      "Epoch 3/10\n",
      "\u001b[1m212/212\u001b[0m \u001b[32m━━━━━━━━━━━━━━━━━━━━\u001b[0m\u001b[37m\u001b[0m \u001b[1m93s\u001b[0m 437ms/step - accuracy: 0.9741 - loss: 0.0703 - val_accuracy: 0.9226 - val_loss: 0.2076\n",
      "Epoch 4/10\n",
      "\u001b[1m212/212\u001b[0m \u001b[32m━━━━━━━━━━━━━━━━━━━━\u001b[0m\u001b[37m\u001b[0m \u001b[1m89s\u001b[0m 418ms/step - accuracy: 0.9876 - loss: 0.0403 - val_accuracy: 0.9225 - val_loss: 0.2418\n",
      "Epoch 5/10\n",
      "\u001b[1m212/212\u001b[0m \u001b[32m━━━━━━━━━━━━━━━━━━━━\u001b[0m\u001b[37m\u001b[0m \u001b[1m93s\u001b[0m 439ms/step - accuracy: 0.9930 - loss: 0.0230 - val_accuracy: 0.9202 - val_loss: 0.3347\n",
      "Epoch 6/10\n",
      "\u001b[1m212/212\u001b[0m \u001b[32m━━━━━━━━━━━━━━━━━━━━\u001b[0m\u001b[37m\u001b[0m \u001b[1m93s\u001b[0m 441ms/step - accuracy: 0.9977 - loss: 0.0095 - val_accuracy: 0.8725 - val_loss: 0.3226\n",
      "Epoch 7/10\n",
      "\u001b[1m212/212\u001b[0m \u001b[32m━━━━━━━━━━━━━━━━━━━━\u001b[0m\u001b[37m\u001b[0m \u001b[1m92s\u001b[0m 435ms/step - accuracy: 0.9587 - loss: 0.1122 - val_accuracy: 0.9045 - val_loss: 0.3043\n",
      "Epoch 8/10\n",
      "\u001b[1m212/212\u001b[0m \u001b[32m━━━━━━━━━━━━━━━━━━━━\u001b[0m\u001b[37m\u001b[0m \u001b[1m88s\u001b[0m 413ms/step - accuracy: 0.9928 - loss: 0.0217 - val_accuracy: 0.9018 - val_loss: 0.3149\n",
      "Epoch 9/10\n",
      "\u001b[1m212/212\u001b[0m \u001b[32m━━━━━━━━━━━━━━━━━━━━\u001b[0m\u001b[37m\u001b[0m \u001b[1m92s\u001b[0m 436ms/step - accuracy: 0.9920 - loss: 0.0234 - val_accuracy: 0.9177 - val_loss: 0.3809\n",
      "Epoch 10/10\n",
      "\u001b[1m212/212\u001b[0m \u001b[32m━━━━━━━━━━━━━━━━━━━━\u001b[0m\u001b[37m\u001b[0m \u001b[1m88s\u001b[0m 415ms/step - accuracy: 0.9996 - loss: 0.0037 - val_accuracy: 0.9159 - val_loss: 0.4454\n"
     ]
    },
    {
     "data": {
      "text/plain": [
       "<keras.src.callbacks.history.History at 0x2ae2ba7b350>"
      ]
     },
     "execution_count": 65,
     "metadata": {},
     "output_type": "execute_result"
    }
   ],
   "source": [
    "# Fit the model\n",
    "model.fit(x_train, y_train, validation_data=(x_test, y_test), epochs=10, batch_size = 64)"
   ]
  },
  {
   "cell_type": "code",
   "execution_count": 72,
   "id": "4ee09296-7c80-41a6-b7a5-326421ef8d87",
   "metadata": {},
   "outputs": [
    {
     "name": "stdout",
     "output_type": "stream",
     "text": [
      "\u001b[1m209/209\u001b[0m \u001b[32m━━━━━━━━━━━━━━━━━━━━\u001b[0m\u001b[37m\u001b[0m \u001b[1m15s\u001b[0m 72ms/step\n"
     ]
    }
   ],
   "source": [
    "# Apply a threshold to the predictions\n",
    "y_pred = (model.predict(x_test) > 0.5).astype(int)"
   ]
  },
  {
   "cell_type": "code",
   "execution_count": 73,
   "id": "2ba69e32-10ef-46f4-a53e-8570d0194562",
   "metadata": {},
   "outputs": [
    {
     "data": {
      "text/plain": [
       "array([[3101,  319],\n",
       "       [ 242, 3005]], dtype=int64)"
      ]
     },
     "execution_count": 73,
     "metadata": {},
     "output_type": "execute_result"
    }
   ],
   "source": [
    "from sklearn.metrics import confusion_matrix\n",
    "confusion_matrix(y_test, y_pred)"
   ]
  },
  {
   "cell_type": "code",
   "execution_count": 75,
   "id": "1f23403f-16e7-4725-bc7a-bd2c26ee3101",
   "metadata": {},
   "outputs": [
    {
     "name": "stdout",
     "output_type": "stream",
     "text": [
      "Confusion Matrix:\n",
      "[[3101  319]\n",
      " [ 242 3005]]\n"
     ]
    }
   ],
   "source": [
    "from sklearn.metrics import confusion_matrix\n",
    "\n",
    "# Calculate the confusion matrix\n",
    "cm = confusion_matrix(y_test, y_pred)\n",
    "\n",
    "print(\"Confusion Matrix:\")\n",
    "print(cm)\n"
   ]
  },
  {
   "cell_type": "code",
   "execution_count": 76,
   "id": "51f405e1-5b6f-46cf-b65e-ea94fd695695",
   "metadata": {},
   "outputs": [
    {
     "name": "stdout",
     "output_type": "stream",
     "text": [
      "Accuracy: 0.9159\n",
      "Precision: 0.9040\n",
      "Recall: 0.9255\n",
      "F1-Score: 0.9146\n"
     ]
    }
   ],
   "source": [
    "from sklearn.metrics import accuracy_score, precision_score, recall_score, f1_score\n",
    "\n",
    "# Accuracy: Proportion of correctly predicted instances\n",
    "accuracy = accuracy_score(y_test, y_pred)\n",
    "print(f\"Accuracy: {accuracy:.4f}\")\n",
    "\n",
    "# Precision: Proportion of positive predictions that were correct\n",
    "precision = precision_score(y_test, y_pred)\n",
    "print(f\"Precision: {precision:.4f}\")\n",
    "\n",
    "# Recall: Proportion of actual positive instances that were predicted correctly\n",
    "recall = recall_score(y_test, y_pred)\n",
    "print(f\"Recall: {recall:.4f}\")\n",
    "\n",
    "# F1-Score: Harmonic mean of precision and recall\n",
    "f1 = f1_score(y_test, y_pred)\n",
    "print(f\"F1-Score: {f1:.4f}\")\n"
   ]
  },
  {
   "cell_type": "code",
   "execution_count": null,
   "id": "21b4480d-4dcc-42db-b06f-326895d2c573",
   "metadata": {},
   "outputs": [],
   "source": []
  }
 ],
 "metadata": {
  "kernelspec": {
   "display_name": "Python 3 (ipykernel)",
   "language": "python",
   "name": "python3"
  },
  "language_info": {
   "codemirror_mode": {
    "name": "ipython",
    "version": 3
   },
   "file_extension": ".py",
   "mimetype": "text/x-python",
   "name": "python",
   "nbconvert_exporter": "python",
   "pygments_lexer": "ipython3",
   "version": "3.12.3"
  }
 },
 "nbformat": 4,
 "nbformat_minor": 5
}
